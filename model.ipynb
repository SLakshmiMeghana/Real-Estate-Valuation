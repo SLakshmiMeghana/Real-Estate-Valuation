{
 "cells": [
  {
   "cell_type": "code",
   "execution_count": 1,
   "id": "5135a5c7-6105-455e-a47c-882ab1a0a386",
   "metadata": {},
   "outputs": [],
   "source": [
    "#import the libraries\n",
    "import pandas as pd"
   ]
  },
  {
   "cell_type": "code",
   "execution_count": 2,
   "id": "a645b0e7-981a-473d-9c50-dd7199948414",
   "metadata": {},
   "outputs": [],
   "source": [
    "#import the required algorithms\n",
    "from sklearn.model_selection import train_test_split\n",
    "from sklearn.linear_model import (\n",
    "LinearRegression,Ridge,Lasso,ElasticNet,SGDRegressor,HuberRegressor\n",
    ")\n",
    "from sklearn.ensemble import RandomForestRegressor\n",
    "from sklearn.svm import SVR\n",
    "from sklearn.preprocessing import PolynomialFeatures\n",
    "from sklearn.pipeline import Pipeline\n",
    "from sklearn.neural_network import MLPRegressor\n",
    "from sklearn.neighbors import KNeighborsRegressor\n",
    "import lightgbm as lgb\n",
    "import xgboost as xgb\n",
    "from sklearn.metrics import mean_squared_error,mean_absolute_error,r2_score"
   ]
  },
  {
   "cell_type": "code",
   "execution_count": 3,
   "id": "93804b50-9944-4eb6-bcd3-74b268297a26",
   "metadata": {},
   "outputs": [],
   "source": [
    "#import the pickle\n",
    "import pickle"
   ]
  },
  {
   "cell_type": "code",
   "execution_count": 4,
   "id": "23e909b6-1fe4-4f6e-b824-e18fe493c53a",
   "metadata": {},
   "outputs": [],
   "source": [
    "#Load the data set\n",
    "data=pd.read_csv(r\"C:\\Users\\Meghana\\OneDrive\\Desktop\\desktop\\data science\\datasets given by sir\\USA_Housing.csv\")"
   ]
  },
  {
   "cell_type": "code",
   "execution_count": 5,
   "id": "d9f6cbe8-7a0a-4c82-92da-0cfd760c0418",
   "metadata": {},
   "outputs": [],
   "source": [
    "# split the data into independent and dependent variable\n",
    "x=data.drop(['Price','Address'],axis=1)\n",
    "y=data['Price']"
   ]
  },
  {
   "cell_type": "code",
   "execution_count": 6,
   "id": "3dd53f7d-6d94-4a2d-addb-0adf34cb24c8",
   "metadata": {},
   "outputs": [],
   "source": [
    "#split the data\n",
    "x_train,x_test,y_train,y_test=train_test_split(x,y,test_size=0.2,random_state=0)"
   ]
  },
  {
   "cell_type": "code",
   "execution_count": 7,
   "id": "9312e1b4-ca81-43ee-9ef3-c93ac36638cc",
   "metadata": {},
   "outputs": [],
   "source": [
    "#Define the models\n",
    "models={\n",
    "    'LinearRegression':LinearRegression(),\n",
    "    'RobustRegression':HuberRegressor(),\n",
    "    'RidgeRegression':Ridge(),\n",
    "    'ElasticNet': ElasticNet(),\n",
    "    'LassoRegression':Lasso(),\n",
    "    'PolynomialRegression':Pipeline([\n",
    "        ('poly',PolynomialFeatures(degree=2)),\n",
    "        ('linear',LinearRegression())\n",
    "    ]),\n",
    "    'SGDRegressor':SGDRegressor(),\n",
    "    'ANN':MLPRegressor(hidden_layer_sizes=(100,),max_iter=1000),\n",
    "    'RandomForest':RandomForestRegressor(),\n",
    "    'SVM':SVR(),\n",
    "    'LGBM':lgb.LGBMRegressor(),\n",
    "    'XGBoost':xgb.XGBRFRegressor(),\n",
    "    'KNN':KNeighborsRegressor()\n",
    "}"
   ]
  },
  {
   "cell_type": "code",
   "execution_count": 9,
   "id": "e0c24dec-912f-4790-b67b-fa32662d5a05",
   "metadata": {},
   "outputs": [
    {
     "name": "stdout",
     "output_type": "stream",
     "text": [
      "[LightGBM] [Warning] Found whitespace in feature_names, replace with underlines\n",
      "[LightGBM] [Info] Auto-choosing col-wise multi-threading, the overhead of testing was 0.000338 seconds.\n",
      "You can set `force_col_wise=true` to remove the overhead.\n",
      "[LightGBM] [Info] Total Bins 1256\n",
      "[LightGBM] [Info] Number of data points in the train set: 4000, number of used features: 5\n",
      "[LightGBM] [Info] Start training from score 1231911.452183\n"
     ]
    }
   ],
   "source": [
    "#train and evaluate models\n",
    "results=[]\n",
    "for name,model in models.items():\n",
    "    model.fit(x_train,y_train)\n",
    "    y_pred=model.predict(x_test)\n",
    "    mae=mean_absolute_error(y_test,y_pred)\n",
    "    mse=mean_squared_error(y_test,y_pred)\n",
    "    r2=r2_score(y_test,y_pred)\n",
    "    results.append(\n",
    "        {\n",
    "            'Model':name,\n",
    "            'MAE':mae,\n",
    "            'MSE':mse,\n",
    "            'R2':r2\n",
    "        }\n",
    "    )\n",
    "    with open(f'{name}.pkl','wb') as f:\n",
    "        pickle.dump(model,f)"
   ]
  },
  {
   "cell_type": "code",
   "execution_count": 11,
   "id": "5568dd1b-bc87-4420-a31e-a385f466a1df",
   "metadata": {},
   "outputs": [],
   "source": [
    "#convert the results to dataframe and save to csv\n",
    "results_df=pd.DataFrame(results)\n",
    "results_df.to_csv('model evaluation results.csv',index=False)"
   ]
  },
  {
   "cell_type": "markdown",
   "id": "73c1f214-1e89-4724-80b8-1280821c9b44",
   "metadata": {},
   "source": [
    "## Models have been trains\\ed and saved as pickle files.Evaluation results have been saved as csv file"
   ]
  },
  {
   "cell_type": "code",
   "execution_count": null,
   "id": "e8ff539b-069c-4c14-89b7-071a11d2d9f1",
   "metadata": {},
   "outputs": [],
   "source": []
  }
 ],
 "metadata": {
  "kernelspec": {
   "display_name": "Python 3 (ipykernel)",
   "language": "python",
   "name": "python3"
  },
  "language_info": {
   "codemirror_mode": {
    "name": "ipython",
    "version": 3
   },
   "file_extension": ".py",
   "mimetype": "text/x-python",
   "name": "python",
   "nbconvert_exporter": "python",
   "pygments_lexer": "ipython3",
   "version": "3.11.7"
  }
 },
 "nbformat": 4,
 "nbformat_minor": 5
}
